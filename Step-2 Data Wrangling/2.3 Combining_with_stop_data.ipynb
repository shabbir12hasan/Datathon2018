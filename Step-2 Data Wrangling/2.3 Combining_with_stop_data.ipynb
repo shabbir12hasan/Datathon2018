{
 "cells": [
  {
   "cell_type": "code",
   "execution_count": 1,
   "metadata": {
    "collapsed": true
   },
   "outputs": [],
   "source": [
    "import pandas as pd"
   ]
  },
  {
   "cell_type": "code",
   "execution_count": 2,
   "metadata": {
    "collapsed": true
   },
   "outputs": [],
   "source": [
    "stop_data = pd.read_csv(\"D:\\StudyMaterial\\DatathonMelb_2018\\stop_locations.txt\", delimiter=\"|\", header = None)\n",
    "stop_data.columns = [\"StopID\", \"StopNameShort\", \"StopNameLong\", \"StopType\",\"SuburbName\",\"PostCode\",\"RegionName\",\n",
    "                     \"LocalGovernmentArea\",\"StatDivision\",\"GPSLat\",\"GPSLong\"]"
   ]
  },
  {
   "cell_type": "code",
   "execution_count": 4,
   "metadata": {},
   "outputs": [
    {
     "data": {
      "text/html": [
       "<div>\n",
       "<style>\n",
       "    .dataframe thead tr:only-child th {\n",
       "        text-align: right;\n",
       "    }\n",
       "\n",
       "    .dataframe thead th {\n",
       "        text-align: left;\n",
       "    }\n",
       "\n",
       "    .dataframe tbody tr th {\n",
       "        vertical-align: top;\n",
       "    }\n",
       "</style>\n",
       "<table border=\"1\" class=\"dataframe\">\n",
       "  <thead>\n",
       "    <tr style=\"text-align: right;\">\n",
       "      <th></th>\n",
       "      <th>StopID</th>\n",
       "      <th>StopNameShort</th>\n",
       "      <th>StopNameLong</th>\n",
       "      <th>StopType</th>\n",
       "      <th>SuburbName</th>\n",
       "      <th>PostCode</th>\n",
       "      <th>RegionName</th>\n",
       "      <th>LocalGovernmentArea</th>\n",
       "      <th>StatDivision</th>\n",
       "      <th>GPSLat</th>\n",
       "      <th>GPSLong</th>\n",
       "    </tr>\n",
       "  </thead>\n",
       "  <tbody>\n",
       "    <tr>\n",
       "      <th>0</th>\n",
       "      <td>867</td>\n",
       "      <td>Weemala Court</td>\n",
       "      <td>Weemala Ct/Plenty River Dr (Greensborough)</td>\n",
       "      <td>Kerbside</td>\n",
       "      <td>Greensborough</td>\n",
       "      <td>3088.0</td>\n",
       "      <td>Melbourne</td>\n",
       "      <td>Banyule</td>\n",
       "      <td>Greater Metro</td>\n",
       "      <td>-37.689596</td>\n",
       "      <td>145.105088</td>\n",
       "    </tr>\n",
       "    <tr>\n",
       "      <th>1</th>\n",
       "      <td>868</td>\n",
       "      <td>Crana Grove</td>\n",
       "      <td>Crana Gr/Plenty River Dr (Greensborough)</td>\n",
       "      <td>Kerbside</td>\n",
       "      <td>Greensborough</td>\n",
       "      <td>3088.0</td>\n",
       "      <td>Melbourne</td>\n",
       "      <td>Banyule</td>\n",
       "      <td>Greater Metro</td>\n",
       "      <td>-37.686742</td>\n",
       "      <td>145.105588</td>\n",
       "    </tr>\n",
       "  </tbody>\n",
       "</table>\n",
       "</div>"
      ],
      "text/plain": [
       "   StopID  StopNameShort                                StopNameLong  \\\n",
       "0     867  Weemala Court  Weemala Ct/Plenty River Dr (Greensborough)   \n",
       "1     868    Crana Grove    Crana Gr/Plenty River Dr (Greensborough)   \n",
       "\n",
       "   StopType     SuburbName  PostCode RegionName LocalGovernmentArea  \\\n",
       "0  Kerbside  Greensborough    3088.0  Melbourne             Banyule   \n",
       "1  Kerbside  Greensborough    3088.0  Melbourne             Banyule   \n",
       "\n",
       "    StatDivision     GPSLat     GPSLong  \n",
       "0  Greater Metro -37.689596  145.105088  \n",
       "1  Greater Metro -37.686742  145.105588  "
      ]
     },
     "execution_count": 4,
     "metadata": {},
     "output_type": "execute_result"
    }
   ],
   "source": [
    "stop_data.head(2)"
   ]
  },
  {
   "cell_type": "markdown",
   "metadata": {},
   "source": [
    "## Importing myki data"
   ]
  },
  {
   "cell_type": "code",
   "execution_count": 6,
   "metadata": {},
   "outputs": [],
   "source": [
    "myki_data = pd.read_csv(\"cleaning/agg_data_melted.csv\", delimiter=\",\")"
   ]
  },
  {
   "cell_type": "code",
   "execution_count": 7,
   "metadata": {},
   "outputs": [
    {
     "data": {
      "text/html": [
       "<div>\n",
       "<style>\n",
       "    .dataframe thead tr:only-child th {\n",
       "        text-align: right;\n",
       "    }\n",
       "\n",
       "    .dataframe thead th {\n",
       "        text-align: left;\n",
       "    }\n",
       "\n",
       "    .dataframe tbody tr th {\n",
       "        vertical-align: top;\n",
       "    }\n",
       "</style>\n",
       "<table border=\"1\" class=\"dataframe\">\n",
       "  <thead>\n",
       "    <tr style=\"text-align: right;\">\n",
       "      <th></th>\n",
       "      <th>Date</th>\n",
       "      <th>StopID</th>\n",
       "      <th>Counts</th>\n",
       "    </tr>\n",
       "  </thead>\n",
       "  <tbody>\n",
       "    <tr>\n",
       "      <th>0</th>\n",
       "      <td>2015-07-12</td>\n",
       "      <td>867</td>\n",
       "      <td>10.0</td>\n",
       "    </tr>\n",
       "    <tr>\n",
       "      <th>1</th>\n",
       "      <td>2015-07-19</td>\n",
       "      <td>867</td>\n",
       "      <td>15.0</td>\n",
       "    </tr>\n",
       "    <tr>\n",
       "      <th>2</th>\n",
       "      <td>2015-07-26</td>\n",
       "      <td>867</td>\n",
       "      <td>10.0</td>\n",
       "    </tr>\n",
       "  </tbody>\n",
       "</table>\n",
       "</div>"
      ],
      "text/plain": [
       "         Date  StopID  Counts\n",
       "0  2015-07-12     867    10.0\n",
       "1  2015-07-19     867    15.0\n",
       "2  2015-07-26     867    10.0"
      ]
     },
     "execution_count": 7,
     "metadata": {},
     "output_type": "execute_result"
    }
   ],
   "source": [
    "myki_data.head(3)"
   ]
  },
  {
   "cell_type": "markdown",
   "metadata": {},
   "source": [
    "## Combining myki and stop data"
   ]
  },
  {
   "cell_type": "code",
   "execution_count": 20,
   "metadata": {
    "collapsed": true
   },
   "outputs": [],
   "source": [
    "df = pd.merge(myki_data, stop_data,  how='left', left_on=['StopID'], right_on = ['StopID'])"
   ]
  },
  {
   "cell_type": "code",
   "execution_count": 21,
   "metadata": {},
   "outputs": [
    {
     "data": {
      "text/plain": [
       "Date                       0\n",
       "StopID                     0\n",
       "Counts                     0\n",
       "StopNameShort              0\n",
       "StopNameLong               0\n",
       "StopType                5966\n",
       "SuburbName                 0\n",
       "PostCode               10048\n",
       "RegionName                 0\n",
       "LocalGovernmentArea        0\n",
       "StatDivision               0\n",
       "GPSLat                     0\n",
       "GPSLong                    0\n",
       "dtype: int64"
      ]
     },
     "execution_count": 21,
     "metadata": {},
     "output_type": "execute_result"
    }
   ],
   "source": [
    "# Checking null\n",
    "df.isnull().sum()"
   ]
  },
  {
   "cell_type": "code",
   "execution_count": 22,
   "metadata": {},
   "outputs": [],
   "source": [
    "# converting null values to unkonwn\n",
    "df['StopType'].fillna('Unknown',inplace = True)\n",
    "df['PostCode'].fillna('Unknown',inplace = True)"
   ]
  },
  {
   "cell_type": "code",
   "execution_count": 23,
   "metadata": {},
   "outputs": [
    {
     "data": {
      "text/plain": [
       "Date                   0\n",
       "StopID                 0\n",
       "Counts                 0\n",
       "StopNameShort          0\n",
       "StopNameLong           0\n",
       "StopType               0\n",
       "SuburbName             0\n",
       "PostCode               0\n",
       "RegionName             0\n",
       "LocalGovernmentArea    0\n",
       "StatDivision           0\n",
       "GPSLat                 0\n",
       "GPSLong                0\n",
       "dtype: int64"
      ]
     },
     "execution_count": 23,
     "metadata": {},
     "output_type": "execute_result"
    }
   ],
   "source": [
    "# Checking null\n",
    "df.isnull().sum()"
   ]
  },
  {
   "cell_type": "markdown",
   "metadata": {},
   "source": [
    "## Writing data"
   ]
  },
  {
   "cell_type": "code",
   "execution_count": 24,
   "metadata": {
    "collapsed": true
   },
   "outputs": [],
   "source": [
    "df.to_csv(\"cleaning/agg_data_melted+StopData.csv\", sep=',', index=False)"
   ]
  },
  {
   "cell_type": "code",
   "execution_count": null,
   "metadata": {
    "collapsed": true
   },
   "outputs": [],
   "source": []
  }
 ],
 "metadata": {
  "kernelspec": {
   "display_name": "Python 3",
   "language": "python",
   "name": "python3"
  },
  "language_info": {
   "codemirror_mode": {
    "name": "ipython",
    "version": 3
   },
   "file_extension": ".py",
   "mimetype": "text/x-python",
   "name": "python",
   "nbconvert_exporter": "python",
   "pygments_lexer": "ipython3",
   "version": "3.6.1"
  }
 },
 "nbformat": 4,
 "nbformat_minor": 2
}
